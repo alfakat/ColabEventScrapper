{
  "nbformat": 4,
  "nbformat_minor": 0,
  "metadata": {
    "colab": {
      "provenance": [],
      "authorship_tag": "ABX9TyPaIF/VTPsWeYiC5SRs/Wd1",
      "include_colab_link": true
    },
    "kernelspec": {
      "name": "python3",
      "display_name": "Python 3"
    },
    "language_info": {
      "name": "python"
    }
  },
  "cells": [
    {
      "cell_type": "markdown",
      "metadata": {
        "id": "view-in-github",
        "colab_type": "text"
      },
      "source": [
        "<a href=\"https://colab.research.google.com/github/alfakat/ColabEventScrapper/blob/main/ColabEventScrapper.ipynb\" target=\"_parent\"><img src=\"https://colab.research.google.com/assets/colab-badge.svg\" alt=\"Open In Colab\"/></a>"
      ]
    },
    {
      "cell_type": "code",
      "execution_count": null,
      "metadata": {
        "id": "QSw66qaq8_Bl"
      },
      "outputs": [],
      "source": [
        "!git clone https://github.com/alfakat/ColabEventScrapper.git"
      ]
    },
    {
      "cell_type": "code",
      "source": [
        "%cd ColabEventScrapper"
      ],
      "metadata": {
        "id": "7RZ3iINq9Jzl"
      },
      "execution_count": null,
      "outputs": []
    },
    {
      "cell_type": "code",
      "source": [
        "!pip install -r requirements.txt"
      ],
      "metadata": {
        "id": "Y503hbR49Ptb"
      },
      "execution_count": null,
      "outputs": []
    },
    {
      "cell_type": "code",
      "source": [
        "!python runer.py"
      ],
      "metadata": {
        "id": "Uur1jLOjwRV8"
      },
      "execution_count": null,
      "outputs": []
    }
  ]
}