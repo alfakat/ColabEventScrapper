{
  "nbformat": 4,
  "nbformat_minor": 0,
  "metadata": {
    "colab": {
      "provenance": [],
      "authorship_tag": "ABX9TyMdwJ4Tqllpztu2HK4eVSgc",
      "include_colab_link": true
    },
    "kernelspec": {
      "name": "python3",
      "display_name": "Python 3"
    },
    "language_info": {
      "name": "python"
    }
  },
  "cells": [
    {
      "cell_type": "markdown",
      "metadata": {
        "id": "view-in-github",
        "colab_type": "text"
      },
      "source": [
        "<a href=\"https://colab.research.google.com/github/alfakat/ColabEventScrapper/blob/main/ColabEventScrapper.ipynb\" target=\"_parent\"><img src=\"https://colab.research.google.com/assets/colab-badge.svg\" alt=\"Open In Colab\"/></a>"
      ]
    },
    {
      "cell_type": "code",
      "execution_count": null,
      "metadata": {
        "colab": {
          "base_uri": "https://localhost:8080/"
        },
        "id": "QSw66qaq8_Bl",
        "outputId": "f016b68e-f9c3-488b-873f-0de6088a2171"
      },
      "outputs": [
        {
          "output_type": "stream",
          "name": "stdout",
          "text": [
            "Cloning into 'ColabEventScrapper'...\n",
            "remote: Enumerating objects: 14, done.\u001b[K\n",
            "remote: Counting objects: 100% (14/14), done.\u001b[K\n",
            "remote: Compressing objects: 100% (12/12), done.\u001b[K\n",
            "remote: Total 14 (delta 1), reused 0 (delta 0), pack-reused 0 (from 0)\u001b[K\n",
            "Receiving objects: 100% (14/14), 5.15 KiB | 5.15 MiB/s, done.\n",
            "Resolving deltas: 100% (1/1), done.\n"
          ]
        }
      ],
      "source": [
        "!git clone https://github.com/alfakat/ColabEventScrapper.git"
      ]
    },
    {
      "cell_type": "code",
      "source": [
        "%cd ColabEventScrapper"
      ],
      "metadata": {
        "colab": {
          "base_uri": "https://localhost:8080/"
        },
        "id": "7RZ3iINq9Jzl",
        "outputId": "e7bf2255-50db-4859-df09-3465cf7473ed"
      },
      "execution_count": null,
      "outputs": [
        {
          "output_type": "stream",
          "name": "stdout",
          "text": [
            "/content/ColabEventScrapper\n"
          ]
        }
      ]
    },
    {
      "cell_type": "code",
      "source": [
        "!pip install -r requirements.txt"
      ],
      "metadata": {
        "colab": {
          "base_uri": "https://localhost:8080/"
        },
        "id": "Y503hbR49Ptb",
        "outputId": "c292c9dd-c010-4476-ca80-6918454edea1"
      },
      "execution_count": null,
      "outputs": [
        {
          "output_type": "stream",
          "name": "stdout",
          "text": [
            "Requirement already satisfied: beautifulsoup4==4.13.3 in /usr/local/lib/python3.11/dist-packages (from -r requirements.txt (line 1)) (4.13.3)\n",
            "Requirement already satisfied: blinker==1.9.0 in /usr/local/lib/python3.11/dist-packages (from -r requirements.txt (line 2)) (1.9.0)\n",
            "Requirement already satisfied: certifi==2025.1.31 in /usr/local/lib/python3.11/dist-packages (from -r requirements.txt (line 3)) (2025.1.31)\n",
            "Requirement already satisfied: charset-normalizer==3.4.1 in /usr/local/lib/python3.11/dist-packages (from -r requirements.txt (line 4)) (3.4.1)\n",
            "Requirement already satisfied: click==8.1.8 in /usr/local/lib/python3.11/dist-packages (from -r requirements.txt (line 5)) (8.1.8)\n",
            "Collecting colorama==0.4.6 (from -r requirements.txt (line 6))\n",
            "  Downloading colorama-0.4.6-py2.py3-none-any.whl.metadata (17 kB)\n",
            "Requirement already satisfied: Flask==3.1.0 in /usr/local/lib/python3.11/dist-packages (from -r requirements.txt (line 7)) (3.1.0)\n",
            "Requirement already satisfied: idna==3.10 in /usr/local/lib/python3.11/dist-packages (from -r requirements.txt (line 8)) (3.10)\n",
            "Requirement already satisfied: importlib_metadata==8.6.1 in /usr/local/lib/python3.11/dist-packages (from -r requirements.txt (line 9)) (8.6.1)\n",
            "Requirement already satisfied: itsdangerous==2.2.0 in /usr/local/lib/python3.11/dist-packages (from -r requirements.txt (line 10)) (2.2.0)\n",
            "Collecting Jinja2==3.1.6 (from -r requirements.txt (line 11))\n",
            "  Downloading jinja2-3.1.6-py3-none-any.whl.metadata (2.9 kB)\n",
            "Requirement already satisfied: MarkupSafe==3.0.2 in /usr/local/lib/python3.11/dist-packages (from -r requirements.txt (line 12)) (3.0.2)\n",
            "Requirement already satisfied: requests==2.32.3 in /usr/local/lib/python3.11/dist-packages (from -r requirements.txt (line 13)) (2.32.3)\n",
            "Collecting schedule==1.2.2 (from -r requirements.txt (line 14))\n",
            "  Downloading schedule-1.2.2-py3-none-any.whl.metadata (3.8 kB)\n",
            "Requirement already satisfied: soupsieve==2.6 in /usr/local/lib/python3.11/dist-packages (from -r requirements.txt (line 15)) (2.6)\n",
            "Requirement already satisfied: typing_extensions==4.12.2 in /usr/local/lib/python3.11/dist-packages (from -r requirements.txt (line 16)) (4.12.2)\n",
            "Requirement already satisfied: urllib3==2.3.0 in /usr/local/lib/python3.11/dist-packages (from -r requirements.txt (line 17)) (2.3.0)\n",
            "Requirement already satisfied: Werkzeug==3.1.3 in /usr/local/lib/python3.11/dist-packages (from -r requirements.txt (line 18)) (3.1.3)\n",
            "Requirement already satisfied: zipp==3.21.0 in /usr/local/lib/python3.11/dist-packages (from -r requirements.txt (line 19)) (3.21.0)\n",
            "Downloading colorama-0.4.6-py2.py3-none-any.whl (25 kB)\n",
            "Downloading jinja2-3.1.6-py3-none-any.whl (134 kB)\n",
            "\u001b[2K   \u001b[90m━━━━━━━━━━━━━━━━━━━━━━━━━━━━━━━━━━━━━━━━\u001b[0m \u001b[32m134.9/134.9 kB\u001b[0m \u001b[31m4.8 MB/s\u001b[0m eta \u001b[36m0:00:00\u001b[0m\n",
            "\u001b[?25hDownloading schedule-1.2.2-py3-none-any.whl (12 kB)\n",
            "Installing collected packages: schedule, Jinja2, colorama\n",
            "  Attempting uninstall: Jinja2\n",
            "    Found existing installation: Jinja2 3.1.5\n",
            "    Uninstalling Jinja2-3.1.5:\n",
            "      Successfully uninstalled Jinja2-3.1.5\n",
            "\u001b[31mERROR: pip's dependency resolver does not currently take into account all the packages that are installed. This behaviour is the source of the following dependency conflicts.\n",
            "torch 2.5.1+cu124 requires nvidia-cublas-cu12==12.4.5.8; platform_system == \"Linux\" and platform_machine == \"x86_64\", but you have nvidia-cublas-cu12 12.5.3.2 which is incompatible.\n",
            "torch 2.5.1+cu124 requires nvidia-cuda-cupti-cu12==12.4.127; platform_system == \"Linux\" and platform_machine == \"x86_64\", but you have nvidia-cuda-cupti-cu12 12.5.82 which is incompatible.\n",
            "torch 2.5.1+cu124 requires nvidia-cuda-nvrtc-cu12==12.4.127; platform_system == \"Linux\" and platform_machine == \"x86_64\", but you have nvidia-cuda-nvrtc-cu12 12.5.82 which is incompatible.\n",
            "torch 2.5.1+cu124 requires nvidia-cuda-runtime-cu12==12.4.127; platform_system == \"Linux\" and platform_machine == \"x86_64\", but you have nvidia-cuda-runtime-cu12 12.5.82 which is incompatible.\n",
            "torch 2.5.1+cu124 requires nvidia-cudnn-cu12==9.1.0.70; platform_system == \"Linux\" and platform_machine == \"x86_64\", but you have nvidia-cudnn-cu12 9.3.0.75 which is incompatible.\n",
            "torch 2.5.1+cu124 requires nvidia-cufft-cu12==11.2.1.3; platform_system == \"Linux\" and platform_machine == \"x86_64\", but you have nvidia-cufft-cu12 11.2.3.61 which is incompatible.\n",
            "torch 2.5.1+cu124 requires nvidia-curand-cu12==10.3.5.147; platform_system == \"Linux\" and platform_machine == \"x86_64\", but you have nvidia-curand-cu12 10.3.6.82 which is incompatible.\n",
            "torch 2.5.1+cu124 requires nvidia-cusolver-cu12==11.6.1.9; platform_system == \"Linux\" and platform_machine == \"x86_64\", but you have nvidia-cusolver-cu12 11.6.3.83 which is incompatible.\n",
            "torch 2.5.1+cu124 requires nvidia-cusparse-cu12==12.3.1.170; platform_system == \"Linux\" and platform_machine == \"x86_64\", but you have nvidia-cusparse-cu12 12.5.1.3 which is incompatible.\n",
            "torch 2.5.1+cu124 requires nvidia-nvjitlink-cu12==12.4.127; platform_system == \"Linux\" and platform_machine == \"x86_64\", but you have nvidia-nvjitlink-cu12 12.5.82 which is incompatible.\u001b[0m\u001b[31m\n",
            "\u001b[0mSuccessfully installed Jinja2-3.1.6 colorama-0.4.6 schedule-1.2.2\n"
          ]
        }
      ]
    },
    {
      "cell_type": "code",
      "source": [
        "import os\n",
        "\n",
        "secrets_content = f\"\"\"\n",
        "SENDER_EMAIL = \"{os.getenv('SENDER_EMAIL')}\"\n",
        "SENDER_PASSWORD = \"{os.getenv('SENDER_PASSWORD')}\"\n",
        "RECIPIENT_EMAIL = \"{os.getenv('RECIPIENT_EMAIL')}\"\n",
        "\"\"\""
      ],
      "metadata": {
        "colab": {
          "base_uri": "https://localhost:8080/"
        },
        "id": "jwpm43eG-IB3",
        "outputId": "22253bed-02b9-42eb-ad4f-612a655e5a90"
      },
      "execution_count": null,
      "outputs": [
        {
          "output_type": "stream",
          "name": "stdout",
          "text": [
            "Error fetching events from https://www.haifa.muni.il/event_cat/purim/: 482 Client Error: unknown for url: https://www.haifa.muni.il/event_cat/purim/\n",
            "Error fetching events from https://www.hma.org.il/ילדים_ומשפחה: 'href'\n",
            "No events found.\n"
          ]
        }
      ]
    },
    {
      "cell_type": "code",
      "source": [
        "with open(\"email_settings.py\", \"w\") as f:\n",
        "    f.write(secrets_content)\n",
        "\n",
        "\n",
        "!python runer.py"
      ],
      "metadata": {
        "id": "Uur1jLOjwRV8"
      },
      "execution_count": null,
      "outputs": []
    }
  ]
}